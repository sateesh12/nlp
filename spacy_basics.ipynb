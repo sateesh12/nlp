{
  "nbformat": 4,
  "nbformat_minor": 0,
  "metadata": {
    "colab": {
      "name": "spacy_basics.ipynb",
      "provenance": [],
      "authorship_tag": "ABX9TyMdJcLhZ3QCGpclk2WMxW8e",
      "include_colab_link": true
    },
    "kernelspec": {
      "name": "python3",
      "display_name": "Python 3"
    }
  },
  "cells": [
    {
      "cell_type": "markdown",
      "metadata": {
        "id": "view-in-github",
        "colab_type": "text"
      },
      "source": [
        "<a href=\"https://colab.research.google.com/github/sateesh12/nlp/blob/main/spacy_basics.ipynb\" target=\"_parent\"><img src=\"https://colab.research.google.com/assets/colab-badge.svg\" alt=\"Open In Colab\"/></a>"
      ]
    },
    {
      "cell_type": "code",
      "metadata": {
        "id": "iY28qkWN4aB2"
      },
      "source": [
        "#Some of the imports needed\r\n",
        "import spacy\r\n",
        "import pandas as pd\r\n",
        "from spacy import displacy"
      ],
      "execution_count": 1,
      "outputs": []
    },
    {
      "cell_type": "code",
      "metadata": {
        "colab": {
          "base_uri": "https://localhost:8080/"
        },
        "id": "KatQjD624yA0",
        "outputId": "20aded9b-f734-42c2-e44a-8eafd8243328"
      },
      "source": [
        "#Load the language to work with\r\n",
        "nlp = spacy.load('en')\r\n",
        "print(nlp)"
      ],
      "execution_count": 6,
      "outputs": [
        {
          "output_type": "stream",
          "text": [
            "<spacy.lang.en.English object at 0x7f2320c8f470>\n"
          ],
          "name": "stdout"
        }
      ]
    },
    {
      "cell_type": "code",
      "metadata": {
        "id": "XgyInGUv5PB7"
      },
      "source": [
        "#Load the generalized pre trained NLP model\r\n",
        "#More details at https://spacy.io/models\r\n",
        "nlp = spacy.load('en_core_web_sm') #core = Generalized pre-trained model, can be used for wide variety of tasks e.g. summarization,sentiment analysis\r\n",
        "                                   #web  = Trained on commonly avaibale on data available in web like news artciles, blogs etc. \r\n",
        "                                   #       Not suitable for domain specific e.g. health care/legal\r\n",
        "                                   #sm   = 1 inter-mediate layer in the neural network\r\n",
        "                                   #med  = More than four intermediate layers\r\n",
        "                                   #large= Lot more convolutions\r\n",
        "#In summary it is a collection of words with weights and biases."
      ],
      "execution_count": 4,
      "outputs": []
    },
    {
      "cell_type": "code",
      "metadata": {
        "colab": {
          "base_uri": "https://localhost:8080/"
        },
        "id": "yIU5Ts2z6Rx2",
        "outputId": "7bb6f7ce-c5b6-4bb1-9f07-a8c64eb5fca9"
      },
      "source": [
        "sample = \"Create a PSIM Sweep on an acute angle road where the oncoming NPC is a motorcycle traveling up to 10mph above the speed limit and the motorcycle has a maximum deceleration of 1m/s^2. While not available today, the perception reaction time of the NPC should be 1.5s. The speed of the oncomer should be parameterized by 4m/s - 16m/s with a 1m/s step size and the longitudinal distance of the start position of the oncomer to the intersection should be parameterized such that the AV asserts in front of and yields to the oncomer at 4m/s and 16m/s\"\r\n",
        "k = nlp(sample)\r\n",
        "print(k)"
      ],
      "execution_count": 8,
      "outputs": [
        {
          "output_type": "stream",
          "text": [
            "Create a PSIM Sweep on an acute angle road where the oncoming NPC is a motorcycle traveling up to 10mph above the speed limit and the motorcycle has a maximum deceleration of 1m/s^2. While not available today, the perception reaction time of the NPC should be 1.5s. The speed of the oncomer should be parameterized by 4m/s - 16m/s with a 1m/s step size and the longitudinal distance of the start position of the oncomer to the intersection should be parameterized such that the AV asserts in front of and yields to the oncomer at 4m/s and 16m/s\n"
          ],
          "name": "stdout"
        }
      ]
    },
    {
      "cell_type": "code",
      "metadata": {
        "id": "WSk3afX19mgk"
      },
      "source": [
        ""
      ],
      "execution_count": null,
      "outputs": []
    }
  ]
}