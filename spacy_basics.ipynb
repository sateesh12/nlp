{
  "nbformat": 4,
  "nbformat_minor": 0,
  "metadata": {
    "colab": {
      "name": "spacy_basics.ipynb",
      "provenance": [],
      "authorship_tag": "ABX9TyOS1QFlvj/Tlj4+nJilYTqQ",
      "include_colab_link": true
    },
    "kernelspec": {
      "name": "python3",
      "display_name": "Python 3"
    }
  },
  "cells": [
    {
      "cell_type": "markdown",
      "metadata": {
        "id": "view-in-github",
        "colab_type": "text"
      },
      "source": [
        "<a href=\"https://colab.research.google.com/github/sateesh12/nlp/blob/main/spacy_basics.ipynb\" target=\"_parent\"><img src=\"https://colab.research.google.com/assets/colab-badge.svg\" alt=\"Open In Colab\"/></a>"
      ]
    },
    {
      "cell_type": "code",
      "metadata": {
        "id": "iY28qkWN4aB2"
      },
      "source": [
        "#Some of the imports needed\r\n",
        "import spacy\r\n",
        "import pandas as pd\r\n",
        "from spacy import displacy"
      ],
      "execution_count": 1,
      "outputs": []
    },
    {
      "cell_type": "code",
      "metadata": {
        "colab": {
          "base_uri": "https://localhost:8080/"
        },
        "id": "KatQjD624yA0",
        "outputId": "20aded9b-f734-42c2-e44a-8eafd8243328"
      },
      "source": [
        "#Load the language to work with\r\n",
        "nlp = spacy.load('en')\r\n",
        "print(nlp)"
      ],
      "execution_count": 6,
      "outputs": [
        {
          "output_type": "stream",
          "text": [
            "<spacy.lang.en.English object at 0x7f2320c8f470>\n"
          ],
          "name": "stdout"
        }
      ]
    },
    {
      "cell_type": "code",
      "metadata": {
        "id": "XgyInGUv5PB7"
      },
      "source": [
        "#Load the generalized pre trained NLP model\r\n",
        "#More details at https://spacy.io/models\r\n",
        "nlp = spacy.load('en_core_web_sm') #core = Generalized pre-trained model, can be used for wide variety of tasks e.g. summarization,sentiment analysis\r\n",
        "                                   #web  = Trained on commonly avaibale on data available in web like news artciles, blogs etc. \r\n",
        "                                   #       Not suitable for domain specific e.g. health care/legal"
      ],
      "execution_count": 4,
      "outputs": []
    },
    {
      "cell_type": "code",
      "metadata": {
        "colab": {
          "base_uri": "https://localhost:8080/"
        },
        "id": "YpqZujxz5ghl",
        "outputId": "ec4ac834-01a9-4b96-c2b9-af77c22d536e"
      },
      "source": [
        "print(nlp)"
      ],
      "execution_count": 5,
      "outputs": [
        {
          "output_type": "stream",
          "text": [
            "<spacy.lang.en.English object at 0x7f2321a0b2e8>\n"
          ],
          "name": "stdout"
        }
      ]
    },
    {
      "cell_type": "code",
      "metadata": {
        "id": "yIU5Ts2z6Rx2"
      },
      "source": [
        ""
      ],
      "execution_count": null,
      "outputs": []
    }
  ]
}